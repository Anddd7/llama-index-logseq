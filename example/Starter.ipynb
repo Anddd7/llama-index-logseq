{
 "cells": [
  {
   "attachments": {},
   "cell_type": "markdown",
   "metadata": {},
   "source": [
    "pip3 install openai llama-index tiktoken"
   ]
  },
  {
   "cell_type": "code",
   "execution_count": 24,
   "metadata": {},
   "outputs": [],
   "source": [
    "import os\n",
    "\n",
    "os.environ[\"OPENAI_API_KEY\"]\n",
    "\n",
    "logseq_path = (\n",
    "    \"/Users/adliao/Library/Mobile Documents/iCloud~com~logseq~logseq/Documents/Anddd 3.0/pages\"\n",
    ")\n",
    "include_files = [\n",
    "    logseq_path + \"/Kubernetes.md\",\n",
    "    logseq_path + \"/Cloud-Native.md\",\n",
    "    logseq_path + \"/Cloud-Native___Tutorials.md\",\n",
    "    logseq_path + \"/Cloud Model.md\",\n",
    "    logseq_path + \"/K8S___大规模.md\",\n",
    "    logseq_path + \"/K8S___存储管理.md\",\n",
    "    logseq_path + \"/K8S___权限管理.md\",\n",
    "    logseq_path + \"/K8S___源码阅读.md\",\n",
    "    logseq_path + \"/K8S___网络管理.md\",\n",
    "    logseq_path + \"/K8S___调度管理.md\",\n",
    "    logseq_path + \"/K8S___运维管理.md\",\n",
    "    logseq_path + \"/K8S___集群管理.md\",\n",
    "    logseq_path + \"/K8S___工作负载管理.md\",\n",
    "]\n"
   ]
  },
  {
   "cell_type": "code",
   "execution_count": 25,
   "metadata": {},
   "outputs": [],
   "source": [
    "import logging\n",
    "import sys\n",
    "\n",
    "logging.basicConfig(stream=sys.stdout, level=logging.INFO)\n",
    "logging.getLogger().addHandler(logging.StreamHandler(stream=sys.stdout))\n"
   ]
  },
  {
   "cell_type": "code",
   "execution_count": 28,
   "metadata": {},
   "outputs": [
    {
     "name": "stdout",
     "output_type": "stream",
     "text": [
      "INFO:llama_index.indices.common_tree.base:> Building index from nodes: 1 chunks\n",
      "> Building index from nodes: 1 chunks\n",
      "> Building index from nodes: 1 chunks\n",
      "> Building index from nodes: 1 chunks\n",
      "> Building index from nodes: 1 chunks\n",
      "> Building index from nodes: 1 chunks\n",
      "INFO:llama_index.token_counter.token_counter:> [build_index_from_nodes] Total LLM token usage: 6088 tokens\n",
      "> [build_index_from_nodes] Total LLM token usage: 6088 tokens\n",
      "> [build_index_from_nodes] Total LLM token usage: 6088 tokens\n",
      "> [build_index_from_nodes] Total LLM token usage: 6088 tokens\n",
      "> [build_index_from_nodes] Total LLM token usage: 6088 tokens\n",
      "> [build_index_from_nodes] Total LLM token usage: 6088 tokens\n",
      "INFO:llama_index.token_counter.token_counter:> [build_index_from_nodes] Total embedding token usage: 0 tokens\n",
      "> [build_index_from_nodes] Total embedding token usage: 0 tokens\n",
      "> [build_index_from_nodes] Total embedding token usage: 0 tokens\n",
      "> [build_index_from_nodes] Total embedding token usage: 0 tokens\n",
      "> [build_index_from_nodes] Total embedding token usage: 0 tokens\n",
      "> [build_index_from_nodes] Total embedding token usage: 0 tokens\n"
     ]
    }
   ],
   "source": [
    "from llama_index import GPTTreeIndex, SimpleDirectoryReader\n",
    "\n",
    "documents = SimpleDirectoryReader(input_files=include_files).load_data()\n",
    "\n",
    "cached_index = GPTTreeIndex.from_documents(documents)\n",
    "cached_index.save_to_disk(\"index.json\")\n",
    "index = GPTTreeIndex.load_from_disk(\"index.json\")\n"
   ]
  },
  {
   "cell_type": "code",
   "execution_count": 32,
   "metadata": {},
   "outputs": [
    {
     "name": "stdout",
     "output_type": "stream",
     "text": [
      "INFO:llama_index.indices.tree.leaf_query:> Starting query: what's the kubernetes, and what's the key components of it\n",
      "> Starting query: what's the kubernetes, and what's the key components of it\n",
      "> Starting query: what's the kubernetes, and what's the key components of it\n",
      "> Starting query: what's the kubernetes, and what's the key components of it\n",
      "> Starting query: what's the kubernetes, and what's the key components of it\n",
      "> Starting query: what's the kubernetes, and what's the key components of it\n",
      "INFO:llama_index.indices.tree.leaf_query:>[Level 0] Selected node: [1]/[1]\n",
      ">[Level 0] Selected node: [1]/[1]\n",
      ">[Level 0] Selected node: [1]/[1]\n",
      ">[Level 0] Selected node: [1]/[1]\n",
      ">[Level 0] Selected node: [1]/[1]\n",
      ">[Level 0] Selected node: [1]/[1]\n",
      "INFO:llama_index.indices.tree.leaf_query:>[Level 1] Selected node: [1]/[1]\n",
      ">[Level 1] Selected node: [1]/[1]\n",
      ">[Level 1] Selected node: [1]/[1]\n",
      ">[Level 1] Selected node: [1]/[1]\n",
      ">[Level 1] Selected node: [1]/[1]\n",
      ">[Level 1] Selected node: [1]/[1]\n",
      "INFO:llama_index.token_counter.token_counter:> [query] Total LLM token usage: 8632 tokens\n",
      "> [query] Total LLM token usage: 8632 tokens\n",
      "> [query] Total LLM token usage: 8632 tokens\n",
      "> [query] Total LLM token usage: 8632 tokens\n",
      "> [query] Total LLM token usage: 8632 tokens\n",
      "> [query] Total LLM token usage: 8632 tokens\n",
      "INFO:llama_index.token_counter.token_counter:> [query] Total embedding token usage: 0 tokens\n",
      "> [query] Total embedding token usage: 0 tokens\n",
      "> [query] Total embedding token usage: 0 tokens\n",
      "> [query] Total embedding token usage: 0 tokens\n",
      "> [query] Total embedding token usage: 0 tokens\n",
      "> [query] Total embedding token usage: 0 tokens\n",
      "Kubernetes (K8s) is an open source container cluster management system developed by Google. It is the open source version of Google's large-scale container management technology Borg, and is also one of the most important projects of the Cloud Native Computing Foundation (CNCF). Its main functions include:\n",
      "\n",
      "- Deployment, maintenance and rolling upgrade of applications based on containers\n",
      "- Load balancing and service discovery\n",
      "- Cluster scheduling across machines and regions\n",
      "- Automatic scaling\n",
      "- Stateless and stateful services\n",
      "- Wide range of Volume support\n",
      "- Plugin mechanism to ensure scalability\n",
      "\n",
      "Kubernetes consists of two parts: the control plane and the data plane. The control plane is responsible for managing the cluster, including scheduling, resource management, and service discovery. The data plane is responsible for running the workloads, such as Pods, Containers, and Volumes. The key components of Kubernetes include:\n",
      "\n",
      "- Compute: Components responsible for scheduling Pods to complete the corresponding work\n",
      "- Network: How Pods are accessed\n",
      "- Storage: Persistence\n",
      "- Security: Configuration information and keys\n",
      "- Dispatch: How Pods are deployed\n",
      "- Controller Manager: Pattern controller\n",
      "- API Server: Provides\n"
     ]
    }
   ],
   "source": [
    "print(index.query(\"what's the kubernetes, and what's the key components of it\"))\n"
   ]
  }
 ],
 "metadata": {
  "kernelspec": {
   "display_name": "Python 3",
   "language": "python",
   "name": "python3"
  },
  "language_info": {
   "codemirror_mode": {
    "name": "ipython",
    "version": 3
   },
   "file_extension": ".py",
   "mimetype": "text/x-python",
   "name": "python",
   "nbconvert_exporter": "python",
   "pygments_lexer": "ipython3",
   "version": "3.11.2"
  },
  "orig_nbformat": 4
 },
 "nbformat": 4,
 "nbformat_minor": 2
}
